{
 "cells": [
  {
   "cell_type": "markdown",
   "metadata": {},
   "source": [
    "## Import Accident Data"
   ]
  },
  {
   "cell_type": "code",
   "execution_count": 1,
   "metadata": {},
   "outputs": [],
   "source": [
    "import pandas as pd\n",
    "import numpy as np\n",
    "from matplotlib import pyplot as plt"
   ]
  },
  {
   "cell_type": "code",
   "execution_count": 2,
   "metadata": {
    "scrolled": true
   },
   "outputs": [
    {
     "data": {
      "text/html": [
       "<div>\n",
       "<style scoped>\n",
       "    .dataframe tbody tr th:only-of-type {\n",
       "        vertical-align: middle;\n",
       "    }\n",
       "\n",
       "    .dataframe tbody tr th {\n",
       "        vertical-align: top;\n",
       "    }\n",
       "\n",
       "    .dataframe thead th {\n",
       "        text-align: right;\n",
       "    }\n",
       "</style>\n",
       "<table border=\"1\" class=\"dataframe\">\n",
       "  <thead>\n",
       "    <tr style=\"text-align: right;\">\n",
       "      <th></th>\n",
       "      <th>EventId</th>\n",
       "      <th>Occurrence Local Date Time</th>\n",
       "      <th>Reporting Agency</th>\n",
       "      <th>Cause</th>\n",
       "      <th>Subcause</th>\n",
       "      <th>Status</th>\n",
       "      <th>longitude</th>\n",
       "      <th>latitude</th>\n",
       "      <th>road_segment_id</th>\n",
       "    </tr>\n",
       "  </thead>\n",
       "  <tbody>\n",
       "    <tr>\n",
       "      <th>0</th>\n",
       "      <td>60558</td>\n",
       "      <td>2016-01-01 00:53:00</td>\n",
       "      <td>Cam</td>\n",
       "      <td>Stationary Vehicle</td>\n",
       "      <td>Vehicle On Shoulder</td>\n",
       "      <td>Closed</td>\n",
       "      <td>18.5408955</td>\n",
       "      <td>-33.888275</td>\n",
       "      <td>S0B3CGQ</td>\n",
       "    </tr>\n",
       "    <tr>\n",
       "      <th>1</th>\n",
       "      <td>60559</td>\n",
       "      <td>2016-01-01 00:54:00</td>\n",
       "      <td>CAMERA</td>\n",
       "      <td>Accident</td>\n",
       "      <td>With A Fixed Object</td>\n",
       "      <td>Closed</td>\n",
       "      <td>18.93075632</td>\n",
       "      <td>-34.140857</td>\n",
       "      <td>RYJYAPI</td>\n",
       "    </tr>\n",
       "    <tr>\n",
       "      <th>2</th>\n",
       "      <td>60560</td>\n",
       "      <td>2016-01-01 02:26:00</td>\n",
       "      <td>Law Enforcement</td>\n",
       "      <td>Accident</td>\n",
       "      <td>Multi Vehicle</td>\n",
       "      <td>Closed</td>\n",
       "      <td>18.5533575</td>\n",
       "      <td>-33.959154</td>\n",
       "      <td>U3KP57C</td>\n",
       "    </tr>\n",
       "    <tr>\n",
       "      <th>3</th>\n",
       "      <td>60561</td>\n",
       "      <td>2016-01-01 02:56:00</td>\n",
       "      <td>CAMERA</td>\n",
       "      <td>Stationary Vehicle</td>\n",
       "      <td>Vehicle On Shoulder</td>\n",
       "      <td>Closed</td>\n",
       "      <td>18.67755616</td>\n",
       "      <td>-33.895258</td>\n",
       "      <td>RY0TRQ8</td>\n",
       "    </tr>\n",
       "    <tr>\n",
       "      <th>4</th>\n",
       "      <td>60562</td>\n",
       "      <td>2016-01-01 03:40:00</td>\n",
       "      <td>CAMERA</td>\n",
       "      <td>Accident</td>\n",
       "      <td>Multi Vehicle</td>\n",
       "      <td>Closed</td>\n",
       "      <td>18.83713197</td>\n",
       "      <td>-34.087051</td>\n",
       "      <td>8LOVJZ3</td>\n",
       "    </tr>\n",
       "  </tbody>\n",
       "</table>\n",
       "</div>"
      ],
      "text/plain": [
       "   EventId Occurrence Local Date Time Reporting Agency               Cause  \\\n",
       "0    60558        2016-01-01 00:53:00              Cam  Stationary Vehicle   \n",
       "1    60559        2016-01-01 00:54:00           CAMERA            Accident   \n",
       "2    60560        2016-01-01 02:26:00  Law Enforcement            Accident   \n",
       "3    60561        2016-01-01 02:56:00           CAMERA  Stationary Vehicle   \n",
       "4    60562        2016-01-01 03:40:00           CAMERA            Accident   \n",
       "\n",
       "              Subcause  Status    longitude   latitude road_segment_id  \n",
       "0  Vehicle On Shoulder  Closed   18.5408955 -33.888275         S0B3CGQ  \n",
       "1  With A Fixed Object  Closed  18.93075632 -34.140857         RYJYAPI  \n",
       "2        Multi Vehicle  Closed   18.5533575 -33.959154         U3KP57C  \n",
       "3  Vehicle On Shoulder  Closed  18.67755616 -33.895258         RY0TRQ8  \n",
       "4        Multi Vehicle  Closed  18.83713197 -34.087051         8LOVJZ3  "
      ]
     },
     "execution_count": 2,
     "metadata": {},
     "output_type": "execute_result"
    }
   ],
   "source": [
    "data = pd.read_csv(\"train.csv\", parse_dates = ['Occurrence Local Date Time'])\n",
    "data.head()"
   ]
  },
  {
   "cell_type": "code",
   "execution_count": 3,
   "metadata": {},
   "outputs": [],
   "source": [
    "data.drop([\"Reporting Agency\", \"Cause\", \"Subcause\", \"Status\"], inplace=True, axis =1)"
   ]
  },
  {
   "cell_type": "code",
   "execution_count": 4,
   "metadata": {},
   "outputs": [],
   "source": [
    "data.drop(data[data['longitude'] == 'Closed'].index, inplace=True)"
   ]
  },
  {
   "cell_type": "code",
   "execution_count": 5,
   "metadata": {
    "scrolled": false
   },
   "outputs": [
    {
     "data": {
      "text/plain": [
       "(53840, 5)"
      ]
     },
     "execution_count": 5,
     "metadata": {},
     "output_type": "execute_result"
    }
   ],
   "source": [
    "data.shape"
   ]
  },
  {
   "cell_type": "markdown",
   "metadata": {},
   "source": [
    "## Create Training DF for Each Hour/Road Segment"
   ]
  },
  {
   "cell_type": "code",
   "execution_count": 6,
   "metadata": {},
   "outputs": [],
   "source": [
    "train = data"
   ]
  },
  {
   "cell_type": "code",
   "execution_count": 7,
   "metadata": {},
   "outputs": [
    {
     "data": {
      "text/html": [
       "<div>\n",
       "<style scoped>\n",
       "    .dataframe tbody tr th:only-of-type {\n",
       "        vertical-align: middle;\n",
       "    }\n",
       "\n",
       "    .dataframe tbody tr th {\n",
       "        vertical-align: top;\n",
       "    }\n",
       "\n",
       "    .dataframe thead th {\n",
       "        text-align: right;\n",
       "    }\n",
       "</style>\n",
       "<table border=\"1\" class=\"dataframe\">\n",
       "  <thead>\n",
       "    <tr style=\"text-align: right;\">\n",
       "      <th></th>\n",
       "      <th>datetime</th>\n",
       "      <th>S0B3CGQ</th>\n",
       "      <th>RYJYAPI</th>\n",
       "      <th>U3KP57C</th>\n",
       "      <th>RY0TRQ8</th>\n",
       "      <th>8LOVJZ3</th>\n",
       "      <th>X4UA382</th>\n",
       "      <th>0QR8FDW</th>\n",
       "      <th>DZABHQW</th>\n",
       "      <th>EKZN1VM</th>\n",
       "      <th>...</th>\n",
       "      <th>YVR8GT6</th>\n",
       "      <th>ZAVM3PJ</th>\n",
       "      <th>DS4NLQE</th>\n",
       "      <th>HR19LL7</th>\n",
       "      <th>1451FOG</th>\n",
       "      <th>2ON8NSO</th>\n",
       "      <th>NFUEAN5</th>\n",
       "      <th>4T821GV</th>\n",
       "      <th>J6A19TW</th>\n",
       "      <th>43RCYZH</th>\n",
       "    </tr>\n",
       "  </thead>\n",
       "  <tbody>\n",
       "    <tr>\n",
       "      <th>0</th>\n",
       "      <td>2016-01-01 00:00:00</td>\n",
       "      <td>0</td>\n",
       "      <td>0</td>\n",
       "      <td>0</td>\n",
       "      <td>0</td>\n",
       "      <td>0</td>\n",
       "      <td>0</td>\n",
       "      <td>0</td>\n",
       "      <td>0</td>\n",
       "      <td>0</td>\n",
       "      <td>...</td>\n",
       "      <td>0</td>\n",
       "      <td>0</td>\n",
       "      <td>0</td>\n",
       "      <td>0</td>\n",
       "      <td>0</td>\n",
       "      <td>0</td>\n",
       "      <td>0</td>\n",
       "      <td>0</td>\n",
       "      <td>0</td>\n",
       "      <td>0</td>\n",
       "    </tr>\n",
       "    <tr>\n",
       "      <th>1</th>\n",
       "      <td>2016-01-01 01:00:00</td>\n",
       "      <td>1</td>\n",
       "      <td>1</td>\n",
       "      <td>0</td>\n",
       "      <td>0</td>\n",
       "      <td>0</td>\n",
       "      <td>0</td>\n",
       "      <td>0</td>\n",
       "      <td>0</td>\n",
       "      <td>0</td>\n",
       "      <td>...</td>\n",
       "      <td>0</td>\n",
       "      <td>0</td>\n",
       "      <td>0</td>\n",
       "      <td>0</td>\n",
       "      <td>0</td>\n",
       "      <td>0</td>\n",
       "      <td>0</td>\n",
       "      <td>0</td>\n",
       "      <td>0</td>\n",
       "      <td>0</td>\n",
       "    </tr>\n",
       "    <tr>\n",
       "      <th>2</th>\n",
       "      <td>2016-01-01 02:00:00</td>\n",
       "      <td>0</td>\n",
       "      <td>0</td>\n",
       "      <td>1</td>\n",
       "      <td>0</td>\n",
       "      <td>0</td>\n",
       "      <td>0</td>\n",
       "      <td>0</td>\n",
       "      <td>0</td>\n",
       "      <td>0</td>\n",
       "      <td>...</td>\n",
       "      <td>0</td>\n",
       "      <td>0</td>\n",
       "      <td>0</td>\n",
       "      <td>0</td>\n",
       "      <td>0</td>\n",
       "      <td>0</td>\n",
       "      <td>0</td>\n",
       "      <td>0</td>\n",
       "      <td>0</td>\n",
       "      <td>0</td>\n",
       "    </tr>\n",
       "    <tr>\n",
       "      <th>3</th>\n",
       "      <td>2016-01-01 03:00:00</td>\n",
       "      <td>0</td>\n",
       "      <td>0</td>\n",
       "      <td>0</td>\n",
       "      <td>1</td>\n",
       "      <td>0</td>\n",
       "      <td>0</td>\n",
       "      <td>0</td>\n",
       "      <td>0</td>\n",
       "      <td>0</td>\n",
       "      <td>...</td>\n",
       "      <td>0</td>\n",
       "      <td>0</td>\n",
       "      <td>0</td>\n",
       "      <td>0</td>\n",
       "      <td>0</td>\n",
       "      <td>0</td>\n",
       "      <td>0</td>\n",
       "      <td>0</td>\n",
       "      <td>0</td>\n",
       "      <td>0</td>\n",
       "    </tr>\n",
       "    <tr>\n",
       "      <th>4</th>\n",
       "      <td>2016-01-01 04:00:00</td>\n",
       "      <td>0</td>\n",
       "      <td>0</td>\n",
       "      <td>0</td>\n",
       "      <td>0</td>\n",
       "      <td>1</td>\n",
       "      <td>0</td>\n",
       "      <td>0</td>\n",
       "      <td>0</td>\n",
       "      <td>0</td>\n",
       "      <td>...</td>\n",
       "      <td>0</td>\n",
       "      <td>0</td>\n",
       "      <td>0</td>\n",
       "      <td>0</td>\n",
       "      <td>0</td>\n",
       "      <td>0</td>\n",
       "      <td>0</td>\n",
       "      <td>0</td>\n",
       "      <td>0</td>\n",
       "      <td>0</td>\n",
       "    </tr>\n",
       "  </tbody>\n",
       "</table>\n",
       "<p>5 rows × 545 columns</p>\n",
       "</div>"
      ],
      "text/plain": [
       "             datetime  S0B3CGQ  RYJYAPI  U3KP57C  RY0TRQ8  8LOVJZ3  X4UA382  \\\n",
       "0 2016-01-01 00:00:00        0        0        0        0        0        0   \n",
       "1 2016-01-01 01:00:00        1        1        0        0        0        0   \n",
       "2 2016-01-01 02:00:00        0        0        1        0        0        0   \n",
       "3 2016-01-01 03:00:00        0        0        0        1        0        0   \n",
       "4 2016-01-01 04:00:00        0        0        0        0        1        0   \n",
       "\n",
       "   0QR8FDW  DZABHQW  EKZN1VM  ...  YVR8GT6  ZAVM3PJ  DS4NLQE  HR19LL7  \\\n",
       "0        0        0        0  ...        0        0        0        0   \n",
       "1        0        0        0  ...        0        0        0        0   \n",
       "2        0        0        0  ...        0        0        0        0   \n",
       "3        0        0        0  ...        0        0        0        0   \n",
       "4        0        0        0  ...        0        0        0        0   \n",
       "\n",
       "   1451FOG  2ON8NSO  NFUEAN5  4T821GV  J6A19TW  43RCYZH  \n",
       "0        0        0        0        0        0        0  \n",
       "1        0        0        0        0        0        0  \n",
       "2        0        0        0        0        0        0  \n",
       "3        0        0        0        0        0        0  \n",
       "4        0        0        0        0        0        0  \n",
       "\n",
       "[5 rows x 545 columns]"
      ]
     },
     "execution_count": 7,
     "metadata": {},
     "output_type": "execute_result"
    }
   ],
   "source": [
    "# Create a dataframe with a column for each segment_id (sid)\n",
    "# Each row represents an hour.\n",
    "\n",
    "sids = data['road_segment_id'].unique()\n",
    "\n",
    "dts = pd.date_range('2016-01-01',\n",
    "                    '2018-12-31',\n",
    "                    freq=\"1h\")\n",
    "tr = pd.DataFrame({'datetime':dts})\n",
    "\n",
    "for sid in sids:\n",
    "    tr[str(sid)] = 0\n",
    "    events = train.loc[train['road_segment_id'] == sid]\n",
    "    dts = events['Occurrence Local Date Time'].dt.round('H')\n",
    "    dates = dts.astype(str).unique()\n",
    "    tr.loc[tr['datetime'].isin(dates), sid] = 1\n",
    "tr.head()"
   ]
  },
  {
   "cell_type": "code",
   "execution_count": 8,
   "metadata": {},
   "outputs": [
    {
     "data": {
      "text/plain": [
       "(26281, 545)"
      ]
     },
     "execution_count": 8,
     "metadata": {},
     "output_type": "execute_result"
    }
   ],
   "source": [
    "tr.shape"
   ]
  },
  {
   "cell_type": "code",
   "execution_count": 11,
   "metadata": {},
   "outputs": [
    {
     "data": {
      "text/html": [
       "<div>\n",
       "<style scoped>\n",
       "    .dataframe tbody tr th:only-of-type {\n",
       "        vertical-align: middle;\n",
       "    }\n",
       "\n",
       "    .dataframe tbody tr th {\n",
       "        vertical-align: top;\n",
       "    }\n",
       "\n",
       "    .dataframe thead th {\n",
       "        text-align: right;\n",
       "    }\n",
       "</style>\n",
       "<table border=\"1\" class=\"dataframe\">\n",
       "  <thead>\n",
       "    <tr style=\"text-align: right;\">\n",
       "      <th></th>\n",
       "      <th>datetime x segment_id</th>\n",
       "      <th>datetime</th>\n",
       "      <th>segment_id</th>\n",
       "      <th>y</th>\n",
       "    </tr>\n",
       "  </thead>\n",
       "  <tbody>\n",
       "    <tr>\n",
       "      <th>0</th>\n",
       "      <td>2016-01-01 00:00:00 x S0B3CGQ</td>\n",
       "      <td>2016-01-01 00:00:00</td>\n",
       "      <td>S0B3CGQ</td>\n",
       "      <td>0</td>\n",
       "    </tr>\n",
       "    <tr>\n",
       "      <th>1</th>\n",
       "      <td>2016-01-01 00:00:00 x RYJYAPI</td>\n",
       "      <td>2016-01-01 00:00:00</td>\n",
       "      <td>RYJYAPI</td>\n",
       "      <td>0</td>\n",
       "    </tr>\n",
       "    <tr>\n",
       "      <th>2</th>\n",
       "      <td>2016-01-01 00:00:00 x U3KP57C</td>\n",
       "      <td>2016-01-01 00:00:00</td>\n",
       "      <td>U3KP57C</td>\n",
       "      <td>0</td>\n",
       "    </tr>\n",
       "    <tr>\n",
       "      <th>3</th>\n",
       "      <td>2016-01-01 00:00:00 x RY0TRQ8</td>\n",
       "      <td>2016-01-01 00:00:00</td>\n",
       "      <td>RY0TRQ8</td>\n",
       "      <td>0</td>\n",
       "    </tr>\n",
       "    <tr>\n",
       "      <th>4</th>\n",
       "      <td>2016-01-01 00:00:00 x 8LOVJZ3</td>\n",
       "      <td>2016-01-01 00:00:00</td>\n",
       "      <td>8LOVJZ3</td>\n",
       "      <td>0</td>\n",
       "    </tr>\n",
       "  </tbody>\n",
       "</table>\n",
       "</div>"
      ],
      "text/plain": [
       "           datetime x segment_id             datetime segment_id  y\n",
       "0  2016-01-01 00:00:00 x S0B3CGQ  2016-01-01 00:00:00    S0B3CGQ  0\n",
       "1  2016-01-01 00:00:00 x RYJYAPI  2016-01-01 00:00:00    RYJYAPI  0\n",
       "2  2016-01-01 00:00:00 x U3KP57C  2016-01-01 00:00:00    U3KP57C  0\n",
       "3  2016-01-01 00:00:00 x RY0TRQ8  2016-01-01 00:00:00    RY0TRQ8  0\n",
       "4  2016-01-01 00:00:00 x 8LOVJZ3  2016-01-01 00:00:00    8LOVJZ3  0"
      ]
     },
     "execution_count": 11,
     "metadata": {},
     "output_type": "execute_result"
    }
   ],
   "source": [
    "# Reshape this as in sample submission\n",
    "train = pd.DataFrame({\n",
    "    'datetime x segment_id':np.concatenate([[str(x) + \" x \" + str(c) \n",
    "                                             for c in sids] \n",
    "                                            for x in tr['datetime']]),\n",
    "    'datetime':np.concatenate([[str(x) for c in sids] for x in tr['datetime']]),\n",
    "    'segment_id':np.concatenate([[str(c) for c in sids] for x in tr['datetime']]),\n",
    "    'y':tr[sids].values.flatten()\n",
    "})\n",
    "train.head()"
   ]
  },
  {
   "cell_type": "code",
   "execution_count": 12,
   "metadata": {
    "scrolled": false
   },
   "outputs": [],
   "source": [
    "train['datetime2'] = train['datetime'] \n",
    "train['datetime'] = pd.to_datetime(train['datetime'])\n",
    "train['min'] = train['datetime'].dt.hour*60+train['datetime'].dt.minute"
   ]
  },
  {
   "cell_type": "markdown",
   "metadata": {},
   "source": [
    "## Import Holiday Data"
   ]
  },
  {
   "cell_type": "code",
   "execution_count": 13,
   "metadata": {},
   "outputs": [],
   "source": [
    "holiday = pd.read_csv(\"holiday.csv\")"
   ]
  },
  {
   "cell_type": "code",
   "execution_count": 14,
   "metadata": {},
   "outputs": [],
   "source": [
    "holiday['Date'] = pd.to_datetime(holiday['Date'])"
   ]
  },
  {
   "cell_type": "markdown",
   "metadata": {},
   "source": [
    "## Merge Training and Holiday Data"
   ]
  },
  {
   "cell_type": "code",
   "execution_count": 15,
   "metadata": {},
   "outputs": [
    {
     "data": {
      "text/html": [
       "<div>\n",
       "<style scoped>\n",
       "    .dataframe tbody tr th:only-of-type {\n",
       "        vertical-align: middle;\n",
       "    }\n",
       "\n",
       "    .dataframe tbody tr th {\n",
       "        vertical-align: top;\n",
       "    }\n",
       "\n",
       "    .dataframe thead th {\n",
       "        text-align: right;\n",
       "    }\n",
       "</style>\n",
       "<table border=\"1\" class=\"dataframe\">\n",
       "  <thead>\n",
       "    <tr style=\"text-align: right;\">\n",
       "      <th></th>\n",
       "      <th>datetime x segment_id</th>\n",
       "      <th>datetime</th>\n",
       "      <th>segment_id</th>\n",
       "      <th>y</th>\n",
       "      <th>datetime2</th>\n",
       "      <th>min</th>\n",
       "      <th>Date</th>\n",
       "      <th>Day</th>\n",
       "      <th>Name</th>\n",
       "    </tr>\n",
       "  </thead>\n",
       "  <tbody>\n",
       "    <tr>\n",
       "      <th>0</th>\n",
       "      <td>2016-01-01 00:00:00 x S0B3CGQ</td>\n",
       "      <td>2016-01-01</td>\n",
       "      <td>S0B3CGQ</td>\n",
       "      <td>0</td>\n",
       "      <td>2016-01-01 00:00:00</td>\n",
       "      <td>0</td>\n",
       "      <td>2016-01-01</td>\n",
       "      <td>Friday</td>\n",
       "      <td>New Year's Day</td>\n",
       "    </tr>\n",
       "    <tr>\n",
       "      <th>1</th>\n",
       "      <td>2016-01-01 00:00:00 x RYJYAPI</td>\n",
       "      <td>2016-01-01</td>\n",
       "      <td>RYJYAPI</td>\n",
       "      <td>0</td>\n",
       "      <td>2016-01-01 00:00:00</td>\n",
       "      <td>0</td>\n",
       "      <td>2016-01-01</td>\n",
       "      <td>Friday</td>\n",
       "      <td>New Year's Day</td>\n",
       "    </tr>\n",
       "    <tr>\n",
       "      <th>2</th>\n",
       "      <td>2016-01-01 00:00:00 x U3KP57C</td>\n",
       "      <td>2016-01-01</td>\n",
       "      <td>U3KP57C</td>\n",
       "      <td>0</td>\n",
       "      <td>2016-01-01 00:00:00</td>\n",
       "      <td>0</td>\n",
       "      <td>2016-01-01</td>\n",
       "      <td>Friday</td>\n",
       "      <td>New Year's Day</td>\n",
       "    </tr>\n",
       "    <tr>\n",
       "      <th>3</th>\n",
       "      <td>2016-01-01 00:00:00 x RY0TRQ8</td>\n",
       "      <td>2016-01-01</td>\n",
       "      <td>RY0TRQ8</td>\n",
       "      <td>0</td>\n",
       "      <td>2016-01-01 00:00:00</td>\n",
       "      <td>0</td>\n",
       "      <td>2016-01-01</td>\n",
       "      <td>Friday</td>\n",
       "      <td>New Year's Day</td>\n",
       "    </tr>\n",
       "    <tr>\n",
       "      <th>4</th>\n",
       "      <td>2016-01-01 00:00:00 x 8LOVJZ3</td>\n",
       "      <td>2016-01-01</td>\n",
       "      <td>8LOVJZ3</td>\n",
       "      <td>0</td>\n",
       "      <td>2016-01-01 00:00:00</td>\n",
       "      <td>0</td>\n",
       "      <td>2016-01-01</td>\n",
       "      <td>Friday</td>\n",
       "      <td>New Year's Day</td>\n",
       "    </tr>\n",
       "  </tbody>\n",
       "</table>\n",
       "</div>"
      ],
      "text/plain": [
       "           datetime x segment_id   datetime segment_id  y  \\\n",
       "0  2016-01-01 00:00:00 x S0B3CGQ 2016-01-01    S0B3CGQ  0   \n",
       "1  2016-01-01 00:00:00 x RYJYAPI 2016-01-01    RYJYAPI  0   \n",
       "2  2016-01-01 00:00:00 x U3KP57C 2016-01-01    U3KP57C  0   \n",
       "3  2016-01-01 00:00:00 x RY0TRQ8 2016-01-01    RY0TRQ8  0   \n",
       "4  2016-01-01 00:00:00 x 8LOVJZ3 2016-01-01    8LOVJZ3  0   \n",
       "\n",
       "             datetime2  min       Date     Day            Name  \n",
       "0  2016-01-01 00:00:00    0 2016-01-01  Friday  New Year's Day  \n",
       "1  2016-01-01 00:00:00    0 2016-01-01  Friday  New Year's Day  \n",
       "2  2016-01-01 00:00:00    0 2016-01-01  Friday  New Year's Day  \n",
       "3  2016-01-01 00:00:00    0 2016-01-01  Friday  New Year's Day  \n",
       "4  2016-01-01 00:00:00    0 2016-01-01  Friday  New Year's Day  "
      ]
     },
     "execution_count": 15,
     "metadata": {},
     "output_type": "execute_result"
    }
   ],
   "source": [
    "train_holiday = pd.merge(train, holiday, left_on='datetime', right_on='Date', how = \"left\")\n",
    "train_holiday.head()"
   ]
  },
  {
   "cell_type": "code",
   "execution_count": 16,
   "metadata": {},
   "outputs": [],
   "source": [
    "train_holiday.drop(['Date', 'Day'], inplace=True, axis=1)"
   ]
  },
  {
   "cell_type": "markdown",
   "metadata": {},
   "source": [
    "### Holiday Column Changed to 1s and 0s"
   ]
  },
  {
   "cell_type": "code",
   "execution_count": 17,
   "metadata": {},
   "outputs": [],
   "source": [
    "train_holiday[\"holiday\"] = np.where(train_holiday['Name'].notna(), 1, 0)"
   ]
  },
  {
   "cell_type": "code",
   "execution_count": 18,
   "metadata": {
    "scrolled": true
   },
   "outputs": [],
   "source": [
    "train_holiday.drop('Name', inplace=True, axis=1)"
   ]
  },
  {
   "cell_type": "markdown",
   "metadata": {},
   "source": [
    "## Import Road Segment Data"
   ]
  },
  {
   "cell_type": "code",
   "execution_count": 19,
   "metadata": {},
   "outputs": [],
   "source": [
    "road = pd.read_csv('road_segments.csv')\n"
   ]
  },
  {
   "cell_type": "code",
   "execution_count": 20,
   "metadata": {
    "scrolled": true
   },
   "outputs": [],
   "source": [
    "road.drop([\"REGION\", \"SURFTYPE\", \"PAVETYPE\", \"length_1\"], inplace=True, axis = 1)\n"
   ]
  },
  {
   "cell_type": "markdown",
   "metadata": {},
   "source": [
    "## Merge Training and Road Data"
   ]
  },
  {
   "cell_type": "code",
   "execution_count": 21,
   "metadata": {},
   "outputs": [],
   "source": [
    "data, train, updated_new, tr = 0, 0, 0, 0"
   ]
  },
  {
   "cell_type": "code",
   "execution_count": 23,
   "metadata": {
    "scrolled": true
   },
   "outputs": [],
   "source": [
    "merged = pd.merge(train_holiday, road, on = 'segment_id', how=\"left\")\n"
   ]
  },
  {
   "cell_type": "markdown",
   "metadata": {},
   "source": [
    "### Change Categorical Variables to Dummies"
   ]
  },
  {
   "cell_type": "code",
   "execution_count": 24,
   "metadata": {},
   "outputs": [],
   "source": [
    "dummiesw = pd.get_dummies(merged.WIDTH) #one hot encoding for width\n",
    "dummiesl = pd.get_dummies(merged.LANES)  #one hot encoding for lanes\n",
    "dummiesc = pd.get_dummies(merged.CLASS)  #one hot encoding for class"
   ]
  },
  {
   "cell_type": "code",
   "execution_count": 25,
   "metadata": {},
   "outputs": [],
   "source": [
    "dummiesco = pd.get_dummies(merged.CONDITION) #one hot encoding for condition\n",
    "dummiesr = pd.get_dummies(merged.ROADNO) #one hot encoding for road number"
   ]
  },
  {
   "cell_type": "code",
   "execution_count": 26,
   "metadata": {},
   "outputs": [],
   "source": [
    "merged = pd.concat([merged, dummiesw, dummiesl, dummiesc, dummiesco, dummiesr], axis = 1)"
   ]
  },
  {
   "cell_type": "code",
   "execution_count": 27,
   "metadata": {},
   "outputs": [],
   "source": [
    "final = merged.drop([\"WIDTH\", \"CLASS\", \"LANES\", \"CONDITION\", \"ROADNO\"], axis = 1)"
   ]
  },
  {
   "cell_type": "code",
   "execution_count": 28,
   "metadata": {},
   "outputs": [],
   "source": [
    "dummiesw, dummiesl, dummiesc, dummiesco, dummiesr = 0, 0, 0, 0, 0"
   ]
  },
  {
   "cell_type": "code",
   "execution_count": 29,
   "metadata": {},
   "outputs": [],
   "source": [
    "final= final.rename(columns = {\n",
    "    \"day\": \"Day-of-Week\",\n",
    "    \"X\": \"Latitude\",\n",
    "    \"Y\": \"Longitude\",\n",
    "    \"datetime_x\": \"datetime\"\n",
    "})"
   ]
  },
  {
   "cell_type": "markdown",
   "metadata": {},
   "source": [
    "## Merge Training and Weather"
   ]
  },
  {
   "cell_type": "code",
   "execution_count": 33,
   "metadata": {
    "scrolled": true
   },
   "outputs": [
    {
     "data": {
      "text/html": [
       "<div>\n",
       "<style scoped>\n",
       "    .dataframe tbody tr th:only-of-type {\n",
       "        vertical-align: middle;\n",
       "    }\n",
       "\n",
       "    .dataframe tbody tr th {\n",
       "        vertical-align: top;\n",
       "    }\n",
       "\n",
       "    .dataframe thead th {\n",
       "        text-align: right;\n",
       "    }\n",
       "</style>\n",
       "<table border=\"1\" class=\"dataframe\">\n",
       "  <thead>\n",
       "    <tr style=\"text-align: right;\">\n",
       "      <th></th>\n",
       "      <th>Unnamed: 0</th>\n",
       "      <th>datetime</th>\n",
       "      <th>T</th>\n",
       "      <th>Po</th>\n",
       "      <th>P</th>\n",
       "      <th>Pa</th>\n",
       "      <th>U</th>\n",
       "      <th>Ff</th>\n",
       "      <th>ff10</th>\n",
       "      <th>VV</th>\n",
       "      <th>Td</th>\n",
       "    </tr>\n",
       "  </thead>\n",
       "  <tbody>\n",
       "    <tr>\n",
       "      <th>0</th>\n",
       "      <td>0</td>\n",
       "      <td>2016-01-01 02:00:00</td>\n",
       "      <td>20.9</td>\n",
       "      <td>756.3</td>\n",
       "      <td>760.3</td>\n",
       "      <td>-0.003512</td>\n",
       "      <td>760.3</td>\n",
       "      <td>4.0</td>\n",
       "      <td>8.0</td>\n",
       "      <td>30.0</td>\n",
       "      <td>18.6</td>\n",
       "    </tr>\n",
       "    <tr>\n",
       "      <th>1</th>\n",
       "      <td>1</td>\n",
       "      <td>2016-01-01 03:00:00</td>\n",
       "      <td>20.9</td>\n",
       "      <td>756.3</td>\n",
       "      <td>760.3</td>\n",
       "      <td>-0.003512</td>\n",
       "      <td>760.3</td>\n",
       "      <td>4.0</td>\n",
       "      <td>8.0</td>\n",
       "      <td>30.0</td>\n",
       "      <td>18.6</td>\n",
       "    </tr>\n",
       "    <tr>\n",
       "      <th>2</th>\n",
       "      <td>2</td>\n",
       "      <td>2016-01-01 04:00:00</td>\n",
       "      <td>20.9</td>\n",
       "      <td>756.3</td>\n",
       "      <td>760.3</td>\n",
       "      <td>-0.003512</td>\n",
       "      <td>760.3</td>\n",
       "      <td>4.0</td>\n",
       "      <td>8.0</td>\n",
       "      <td>30.0</td>\n",
       "      <td>18.6</td>\n",
       "    </tr>\n",
       "    <tr>\n",
       "      <th>3</th>\n",
       "      <td>3</td>\n",
       "      <td>2016-01-01 05:00:00</td>\n",
       "      <td>20.9</td>\n",
       "      <td>756.3</td>\n",
       "      <td>760.3</td>\n",
       "      <td>-0.003512</td>\n",
       "      <td>760.3</td>\n",
       "      <td>4.0</td>\n",
       "      <td>8.0</td>\n",
       "      <td>30.0</td>\n",
       "      <td>18.6</td>\n",
       "    </tr>\n",
       "    <tr>\n",
       "      <th>4</th>\n",
       "      <td>4</td>\n",
       "      <td>2016-01-01 06:00:00</td>\n",
       "      <td>20.9</td>\n",
       "      <td>756.3</td>\n",
       "      <td>760.3</td>\n",
       "      <td>-0.003512</td>\n",
       "      <td>760.3</td>\n",
       "      <td>4.0</td>\n",
       "      <td>8.0</td>\n",
       "      <td>30.0</td>\n",
       "      <td>18.6</td>\n",
       "    </tr>\n",
       "  </tbody>\n",
       "</table>\n",
       "</div>"
      ],
      "text/plain": [
       "   Unnamed: 0             datetime     T     Po      P        Pa      U   Ff  \\\n",
       "0           0  2016-01-01 02:00:00  20.9  756.3  760.3 -0.003512  760.3  4.0   \n",
       "1           1  2016-01-01 03:00:00  20.9  756.3  760.3 -0.003512  760.3  4.0   \n",
       "2           2  2016-01-01 04:00:00  20.9  756.3  760.3 -0.003512  760.3  4.0   \n",
       "3           3  2016-01-01 05:00:00  20.9  756.3  760.3 -0.003512  760.3  4.0   \n",
       "4           4  2016-01-01 06:00:00  20.9  756.3  760.3 -0.003512  760.3  4.0   \n",
       "\n",
       "   ff10    VV    Td  \n",
       "0   8.0  30.0  18.6  \n",
       "1   8.0  30.0  18.6  \n",
       "2   8.0  30.0  18.6  \n",
       "3   8.0  30.0  18.6  \n",
       "4   8.0  30.0  18.6  "
      ]
     },
     "execution_count": 33,
     "metadata": {},
     "output_type": "execute_result"
    }
   ],
   "source": [
    "weather_airport = pd.read_csv(\"weather_cleaned.csv\")\n",
    "weather_airport.head()"
   ]
  },
  {
   "cell_type": "code",
   "execution_count": 34,
   "metadata": {},
   "outputs": [],
   "source": [
    "weather_airport.drop(['Unnamed: 0'], inplace=True, axis=1)"
   ]
  },
  {
   "cell_type": "code",
   "execution_count": 35,
   "metadata": {},
   "outputs": [],
   "source": [
    "final_updated = final.loc[final['datetime2'] >= '2016-01-01 02:00:00']"
   ]
  },
  {
   "cell_type": "code",
   "execution_count": 36,
   "metadata": {},
   "outputs": [
    {
     "name": "stderr",
     "output_type": "stream",
     "text": [
      "C:\\Users\\steph\\Anaconda3\\lib\\site-packages\\pandas\\core\\generic.py:5303: SettingWithCopyWarning: \n",
      "A value is trying to be set on a copy of a slice from a DataFrame.\n",
      "Try using .loc[row_indexer,col_indexer] = value instead\n",
      "\n",
      "See the caveats in the documentation: https://pandas.pydata.org/pandas-docs/stable/user_guide/indexing.html#returning-a-view-versus-a-copy\n",
      "  self[name] = value\n"
     ]
    }
   ],
   "source": [
    "final_updated.datetime2 = final_updated.datetime2.astype(str)\n",
    "weather_airport.datetime = weather_airport.datetime.astype(str)"
   ]
  },
  {
   "cell_type": "code",
   "execution_count": 37,
   "metadata": {
    "scrolled": true
   },
   "outputs": [
    {
     "data": {
      "text/html": [
       "<div>\n",
       "<style scoped>\n",
       "    .dataframe tbody tr th:only-of-type {\n",
       "        vertical-align: middle;\n",
       "    }\n",
       "\n",
       "    .dataframe tbody tr th {\n",
       "        vertical-align: top;\n",
       "    }\n",
       "\n",
       "    .dataframe thead th {\n",
       "        text-align: right;\n",
       "    }\n",
       "</style>\n",
       "<table border=\"1\" class=\"dataframe\">\n",
       "  <thead>\n",
       "    <tr style=\"text-align: right;\">\n",
       "      <th></th>\n",
       "      <th>datetime x segment_id</th>\n",
       "      <th>datetime_x</th>\n",
       "      <th>segment_id</th>\n",
       "      <th>y</th>\n",
       "      <th>datetime2</th>\n",
       "      <th>min</th>\n",
       "      <th>holiday</th>\n",
       "      <th>Latitude</th>\n",
       "      <th>Longitude</th>\n",
       "      <th>0.0</th>\n",
       "      <th>...</th>\n",
       "      <th>datetime_y</th>\n",
       "      <th>T</th>\n",
       "      <th>Po</th>\n",
       "      <th>P</th>\n",
       "      <th>Pa</th>\n",
       "      <th>U</th>\n",
       "      <th>Ff</th>\n",
       "      <th>ff10</th>\n",
       "      <th>VV</th>\n",
       "      <th>Td</th>\n",
       "    </tr>\n",
       "  </thead>\n",
       "  <tbody>\n",
       "    <tr>\n",
       "      <th>0</th>\n",
       "      <td>2016-01-01 02:00:00 x S0B3CGQ</td>\n",
       "      <td>2016-01-01 02:00:00</td>\n",
       "      <td>S0B3CGQ</td>\n",
       "      <td>0</td>\n",
       "      <td>2016-01-01 02:00:00</td>\n",
       "      <td>120</td>\n",
       "      <td>0</td>\n",
       "      <td>18.541817</td>\n",
       "      <td>-33.889284</td>\n",
       "      <td>1</td>\n",
       "      <td>...</td>\n",
       "      <td>2016-01-01 02:00:00</td>\n",
       "      <td>20.9</td>\n",
       "      <td>756.3</td>\n",
       "      <td>760.3</td>\n",
       "      <td>-0.003512</td>\n",
       "      <td>760.3</td>\n",
       "      <td>4.0</td>\n",
       "      <td>8.0</td>\n",
       "      <td>30.0</td>\n",
       "      <td>18.6</td>\n",
       "    </tr>\n",
       "    <tr>\n",
       "      <th>1</th>\n",
       "      <td>2016-01-01 02:00:00 x RYJYAPI</td>\n",
       "      <td>2016-01-01 02:00:00</td>\n",
       "      <td>RYJYAPI</td>\n",
       "      <td>0</td>\n",
       "      <td>2016-01-01 02:00:00</td>\n",
       "      <td>120</td>\n",
       "      <td>0</td>\n",
       "      <td>18.930836</td>\n",
       "      <td>-34.140648</td>\n",
       "      <td>0</td>\n",
       "      <td>...</td>\n",
       "      <td>2016-01-01 02:00:00</td>\n",
       "      <td>20.9</td>\n",
       "      <td>756.3</td>\n",
       "      <td>760.3</td>\n",
       "      <td>-0.003512</td>\n",
       "      <td>760.3</td>\n",
       "      <td>4.0</td>\n",
       "      <td>8.0</td>\n",
       "      <td>30.0</td>\n",
       "      <td>18.6</td>\n",
       "    </tr>\n",
       "    <tr>\n",
       "      <th>2</th>\n",
       "      <td>2016-01-01 02:00:00 x U3KP57C</td>\n",
       "      <td>2016-01-01 02:00:00</td>\n",
       "      <td>U3KP57C</td>\n",
       "      <td>1</td>\n",
       "      <td>2016-01-01 02:00:00</td>\n",
       "      <td>120</td>\n",
       "      <td>0</td>\n",
       "      <td>18.551477</td>\n",
       "      <td>-33.958777</td>\n",
       "      <td>1</td>\n",
       "      <td>...</td>\n",
       "      <td>2016-01-01 02:00:00</td>\n",
       "      <td>20.9</td>\n",
       "      <td>756.3</td>\n",
       "      <td>760.3</td>\n",
       "      <td>-0.003512</td>\n",
       "      <td>760.3</td>\n",
       "      <td>4.0</td>\n",
       "      <td>8.0</td>\n",
       "      <td>30.0</td>\n",
       "      <td>18.6</td>\n",
       "    </tr>\n",
       "    <tr>\n",
       "      <th>3</th>\n",
       "      <td>2016-01-01 02:00:00 x RY0TRQ8</td>\n",
       "      <td>2016-01-01 02:00:00</td>\n",
       "      <td>RY0TRQ8</td>\n",
       "      <td>0</td>\n",
       "      <td>2016-01-01 02:00:00</td>\n",
       "      <td>120</td>\n",
       "      <td>0</td>\n",
       "      <td>18.677457</td>\n",
       "      <td>-33.897177</td>\n",
       "      <td>0</td>\n",
       "      <td>...</td>\n",
       "      <td>2016-01-01 02:00:00</td>\n",
       "      <td>20.9</td>\n",
       "      <td>756.3</td>\n",
       "      <td>760.3</td>\n",
       "      <td>-0.003512</td>\n",
       "      <td>760.3</td>\n",
       "      <td>4.0</td>\n",
       "      <td>8.0</td>\n",
       "      <td>30.0</td>\n",
       "      <td>18.6</td>\n",
       "    </tr>\n",
       "    <tr>\n",
       "      <th>4</th>\n",
       "      <td>2016-01-01 02:00:00 x 8LOVJZ3</td>\n",
       "      <td>2016-01-01 02:00:00</td>\n",
       "      <td>8LOVJZ3</td>\n",
       "      <td>0</td>\n",
       "      <td>2016-01-01 02:00:00</td>\n",
       "      <td>120</td>\n",
       "      <td>0</td>\n",
       "      <td>18.835946</td>\n",
       "      <td>-34.085912</td>\n",
       "      <td>0</td>\n",
       "      <td>...</td>\n",
       "      <td>2016-01-01 02:00:00</td>\n",
       "      <td>20.9</td>\n",
       "      <td>756.3</td>\n",
       "      <td>760.3</td>\n",
       "      <td>-0.003512</td>\n",
       "      <td>760.3</td>\n",
       "      <td>4.0</td>\n",
       "      <td>8.0</td>\n",
       "      <td>30.0</td>\n",
       "      <td>18.6</td>\n",
       "    </tr>\n",
       "  </tbody>\n",
       "</table>\n",
       "<p>5 rows × 40 columns</p>\n",
       "</div>"
      ],
      "text/plain": [
       "           datetime x segment_id          datetime_x segment_id  y  \\\n",
       "0  2016-01-01 02:00:00 x S0B3CGQ 2016-01-01 02:00:00    S0B3CGQ  0   \n",
       "1  2016-01-01 02:00:00 x RYJYAPI 2016-01-01 02:00:00    RYJYAPI  0   \n",
       "2  2016-01-01 02:00:00 x U3KP57C 2016-01-01 02:00:00    U3KP57C  1   \n",
       "3  2016-01-01 02:00:00 x RY0TRQ8 2016-01-01 02:00:00    RY0TRQ8  0   \n",
       "4  2016-01-01 02:00:00 x 8LOVJZ3 2016-01-01 02:00:00    8LOVJZ3  0   \n",
       "\n",
       "             datetime2  min  holiday   Latitude  Longitude  0.0  ...  \\\n",
       "0  2016-01-01 02:00:00  120        0  18.541817 -33.889284    1  ...   \n",
       "1  2016-01-01 02:00:00  120        0  18.930836 -34.140648    0  ...   \n",
       "2  2016-01-01 02:00:00  120        0  18.551477 -33.958777    1  ...   \n",
       "3  2016-01-01 02:00:00  120        0  18.677457 -33.897177    0  ...   \n",
       "4  2016-01-01 02:00:00  120        0  18.835946 -34.085912    0  ...   \n",
       "\n",
       "            datetime_y     T     Po      P        Pa      U   Ff  ff10    VV  \\\n",
       "0  2016-01-01 02:00:00  20.9  756.3  760.3 -0.003512  760.3  4.0   8.0  30.0   \n",
       "1  2016-01-01 02:00:00  20.9  756.3  760.3 -0.003512  760.3  4.0   8.0  30.0   \n",
       "2  2016-01-01 02:00:00  20.9  756.3  760.3 -0.003512  760.3  4.0   8.0  30.0   \n",
       "3  2016-01-01 02:00:00  20.9  756.3  760.3 -0.003512  760.3  4.0   8.0  30.0   \n",
       "4  2016-01-01 02:00:00  20.9  756.3  760.3 -0.003512  760.3  4.0   8.0  30.0   \n",
       "\n",
       "     Td  \n",
       "0  18.6  \n",
       "1  18.6  \n",
       "2  18.6  \n",
       "3  18.6  \n",
       "4  18.6  \n",
       "\n",
       "[5 rows x 40 columns]"
      ]
     },
     "execution_count": 37,
     "metadata": {},
     "output_type": "execute_result"
    }
   ],
   "source": [
    "final2 = pd.merge(final_updated, weather_airport, left_on = 'datetime2', right_on = \"datetime\", how=\"left\")\n",
    "final2.head()"
   ]
  },
  {
   "cell_type": "code",
   "execution_count": 38,
   "metadata": {},
   "outputs": [],
   "source": [
    "final2['day'] = final2['datetime_x'].dt.dayofweek"
   ]
  },
  {
   "cell_type": "code",
   "execution_count": 39,
   "metadata": {},
   "outputs": [],
   "source": [
    "dummiesd = pd.get_dummies(final2.day) "
   ]
  },
  {
   "cell_type": "code",
   "execution_count": 40,
   "metadata": {},
   "outputs": [],
   "source": [
    "final3 = pd.concat([final2, dummiesd], axis = 1)"
   ]
  },
  {
   "cell_type": "code",
   "execution_count": 41,
   "metadata": {},
   "outputs": [],
   "source": [
    "final, final2, final_updated, weather_airport, merged = 0, 0, 0, 0, 0"
   ]
  },
  {
   "cell_type": "code",
   "execution_count": 42,
   "metadata": {},
   "outputs": [
    {
     "data": {
      "text/plain": [
       "0    0.996405\n",
       "1    0.003595\n",
       "Name: y, dtype: float64"
      ]
     },
     "execution_count": 42,
     "metadata": {},
     "output_type": "execute_result"
    }
   ],
   "source": [
    "final3.y.value_counts(normalize=True)"
   ]
  },
  {
   "cell_type": "code",
   "execution_count": 43,
   "metadata": {},
   "outputs": [],
   "source": [
    "final3.drop([\"VV\"], inplace=True, axis=1)"
   ]
  },
  {
   "cell_type": "code",
   "execution_count": 44,
   "metadata": {},
   "outputs": [],
   "source": [
    "numerical_train = final3.select_dtypes(np.number)"
   ]
  },
  {
   "cell_type": "code",
   "execution_count": 45,
   "metadata": {},
   "outputs": [],
   "source": [
    "X_train = numerical_train.drop([\"y\"], axis = 1)"
   ]
  },
  {
   "cell_type": "code",
   "execution_count": 46,
   "metadata": {},
   "outputs": [],
   "source": [
    "y_train = final3[\"y\"]"
   ]
  },
  {
   "cell_type": "code",
   "execution_count": 47,
   "metadata": {},
   "outputs": [],
   "source": [
    "dummiesd = 0\n",
    "dummiesy = 0\n",
    "dummiesw = 0\n",
    "dummiesl = 0\n",
    "dummiesco = 0\n",
    "dummiesr = 0 \n",
    "dummiesc = 0"
   ]
  },
  {
   "cell_type": "code",
   "execution_count": 48,
   "metadata": {},
   "outputs": [
    {
     "data": {
      "text/plain": [
       "Index([         'min',      'holiday',     'Latitude',    'Longitude',\n",
       "                  0.0,            7.4,           12.8,           20.2,\n",
       "                    0,              2,      'Primary',     'Tertiary',\n",
       "               'Fair',         'Good',      'Unknown',    'Very Good',\n",
       "                'M17',           'M3',           'M4',           'M5',\n",
       "                 'N1',           'N2',           'N7',         'R300',\n",
       "       'Unclassified',            'T',           'Po',            'P',\n",
       "                 'Pa',            'U',           'Ff',         'ff10',\n",
       "                 'Td',          'day',              0,              1,\n",
       "                    2,              3,              4,              5,\n",
       "                    6],\n",
       "      dtype='object')"
      ]
     },
     "execution_count": 48,
     "metadata": {},
     "output_type": "execute_result"
    }
   ],
   "source": [
    "X_train.columns"
   ]
  },
  {
   "cell_type": "markdown",
   "metadata": {},
   "source": [
    "## Random Forest"
   ]
  },
  {
   "cell_type": "code",
   "execution_count": 50,
   "metadata": {
    "scrolled": true
   },
   "outputs": [],
   "source": [
    "from imblearn.ensemble import BalancedRandomForestClassifier\n",
    "from sklearn.datasets import make_classification\n",
    "from sklearn.metrics import classification_report, confusion_matrix, accuracy_score"
   ]
  },
  {
   "cell_type": "code",
   "execution_count": 51,
   "metadata": {},
   "outputs": [],
   "source": [
    "model = BalancedRandomForestClassifier(n_estimators=10, class_weight= \"balanced\", max_features = \"log2\")"
   ]
  },
  {
   "cell_type": "code",
   "execution_count": 52,
   "metadata": {
    "scrolled": true
   },
   "outputs": [
    {
     "data": {
      "text/plain": [
       "BalancedRandomForestClassifier(class_weight='balanced', max_features='log2',\n",
       "                               n_estimators=10)"
      ]
     },
     "execution_count": 52,
     "metadata": {},
     "output_type": "execute_result"
    }
   ],
   "source": [
    "model.fit(X_train, y_train)"
   ]
  },
  {
   "cell_type": "markdown",
   "metadata": {},
   "source": [
    "## 2019 Data to Make Prediction"
   ]
  },
  {
   "cell_type": "code",
   "execution_count": 53,
   "metadata": {},
   "outputs": [
    {
     "data": {
      "text/html": [
       "<div>\n",
       "<style scoped>\n",
       "    .dataframe tbody tr th:only-of-type {\n",
       "        vertical-align: middle;\n",
       "    }\n",
       "\n",
       "    .dataframe tbody tr th {\n",
       "        vertical-align: top;\n",
       "    }\n",
       "\n",
       "    .dataframe thead th {\n",
       "        text-align: right;\n",
       "    }\n",
       "</style>\n",
       "<table border=\"1\" class=\"dataframe\">\n",
       "  <thead>\n",
       "    <tr style=\"text-align: right;\">\n",
       "      <th></th>\n",
       "      <th>datetime x segment_id</th>\n",
       "      <th>datetime</th>\n",
       "      <th>segment_id</th>\n",
       "    </tr>\n",
       "  </thead>\n",
       "  <tbody>\n",
       "    <tr>\n",
       "      <th>0</th>\n",
       "      <td>2019-01-01 00:00:00 x S0B3CGQ</td>\n",
       "      <td>2019-01-01 00:00:00</td>\n",
       "      <td>S0B3CGQ</td>\n",
       "    </tr>\n",
       "    <tr>\n",
       "      <th>1</th>\n",
       "      <td>2019-01-01 00:00:00 x RYJYAPI</td>\n",
       "      <td>2019-01-01 00:00:00</td>\n",
       "      <td>RYJYAPI</td>\n",
       "    </tr>\n",
       "    <tr>\n",
       "      <th>2</th>\n",
       "      <td>2019-01-01 00:00:00 x U3KP57C</td>\n",
       "      <td>2019-01-01 00:00:00</td>\n",
       "      <td>U3KP57C</td>\n",
       "    </tr>\n",
       "    <tr>\n",
       "      <th>3</th>\n",
       "      <td>2019-01-01 00:00:00 x RY0TRQ8</td>\n",
       "      <td>2019-01-01 00:00:00</td>\n",
       "      <td>RY0TRQ8</td>\n",
       "    </tr>\n",
       "    <tr>\n",
       "      <th>4</th>\n",
       "      <td>2019-01-01 00:00:00 x 8LOVJZ3</td>\n",
       "      <td>2019-01-01 00:00:00</td>\n",
       "      <td>8LOVJZ3</td>\n",
       "    </tr>\n",
       "  </tbody>\n",
       "</table>\n",
       "</div>"
      ],
      "text/plain": [
       "           datetime x segment_id             datetime segment_id\n",
       "0  2019-01-01 00:00:00 x S0B3CGQ  2019-01-01 00:00:00    S0B3CGQ\n",
       "1  2019-01-01 00:00:00 x RYJYAPI  2019-01-01 00:00:00    RYJYAPI\n",
       "2  2019-01-01 00:00:00 x U3KP57C  2019-01-01 00:00:00    U3KP57C\n",
       "3  2019-01-01 00:00:00 x RY0TRQ8  2019-01-01 00:00:00    RY0TRQ8\n",
       "4  2019-01-01 00:00:00 x 8LOVJZ3  2019-01-01 00:00:00    8LOVJZ3"
      ]
     },
     "execution_count": 53,
     "metadata": {},
     "output_type": "execute_result"
    }
   ],
   "source": [
    "dts = pd.date_range('2019-01-01 00:00:00',\n",
    "                    '2019-03-31 23:00:00',\n",
    "                    freq=\"1h\")\n",
    "tr = pd.DataFrame({'datetime':dts})\n",
    "\n",
    "for sid in sids:\n",
    "    tr[str(sid)] = 0\n",
    "    \n",
    "ss = pd.DataFrame({\n",
    "    'datetime x segment_id':np.concatenate([[str(x) + \" x \" + str(c)  \n",
    "                                            for x in tr['datetime']for c in sids]]),\n",
    "    'datetime':np.concatenate([[str(x) for x in tr['datetime']for c in sids]]),\n",
    "    'segment_id':np.concatenate([[str(c) for x in tr['datetime']for c in sids]])\n",
    "})\n",
    "ss.head()"
   ]
  },
  {
   "cell_type": "code",
   "execution_count": 54,
   "metadata": {
    "scrolled": true
   },
   "outputs": [
    {
     "data": {
      "text/html": [
       "<div>\n",
       "<style scoped>\n",
       "    .dataframe tbody tr th:only-of-type {\n",
       "        vertical-align: middle;\n",
       "    }\n",
       "\n",
       "    .dataframe tbody tr th {\n",
       "        vertical-align: top;\n",
       "    }\n",
       "\n",
       "    .dataframe thead th {\n",
       "        text-align: right;\n",
       "    }\n",
       "</style>\n",
       "<table border=\"1\" class=\"dataframe\">\n",
       "  <thead>\n",
       "    <tr style=\"text-align: right;\">\n",
       "      <th></th>\n",
       "      <th>datetime x segment_id</th>\n",
       "      <th>datetime</th>\n",
       "      <th>segment_id</th>\n",
       "      <th>date</th>\n",
       "      <th>min</th>\n",
       "    </tr>\n",
       "  </thead>\n",
       "  <tbody>\n",
       "    <tr>\n",
       "      <th>0</th>\n",
       "      <td>2019-01-01 00:00:00 x S0B3CGQ</td>\n",
       "      <td>2019-01-01</td>\n",
       "      <td>S0B3CGQ</td>\n",
       "      <td>2019-01-01</td>\n",
       "      <td>0</td>\n",
       "    </tr>\n",
       "    <tr>\n",
       "      <th>1</th>\n",
       "      <td>2019-01-01 00:00:00 x RYJYAPI</td>\n",
       "      <td>2019-01-01</td>\n",
       "      <td>RYJYAPI</td>\n",
       "      <td>2019-01-01</td>\n",
       "      <td>0</td>\n",
       "    </tr>\n",
       "    <tr>\n",
       "      <th>2</th>\n",
       "      <td>2019-01-01 00:00:00 x U3KP57C</td>\n",
       "      <td>2019-01-01</td>\n",
       "      <td>U3KP57C</td>\n",
       "      <td>2019-01-01</td>\n",
       "      <td>0</td>\n",
       "    </tr>\n",
       "    <tr>\n",
       "      <th>3</th>\n",
       "      <td>2019-01-01 00:00:00 x RY0TRQ8</td>\n",
       "      <td>2019-01-01</td>\n",
       "      <td>RY0TRQ8</td>\n",
       "      <td>2019-01-01</td>\n",
       "      <td>0</td>\n",
       "    </tr>\n",
       "    <tr>\n",
       "      <th>4</th>\n",
       "      <td>2019-01-01 00:00:00 x 8LOVJZ3</td>\n",
       "      <td>2019-01-01</td>\n",
       "      <td>8LOVJZ3</td>\n",
       "      <td>2019-01-01</td>\n",
       "      <td>0</td>\n",
       "    </tr>\n",
       "  </tbody>\n",
       "</table>\n",
       "</div>"
      ],
      "text/plain": [
       "           datetime x segment_id   datetime segment_id        date  min\n",
       "0  2019-01-01 00:00:00 x S0B3CGQ 2019-01-01    S0B3CGQ  2019-01-01    0\n",
       "1  2019-01-01 00:00:00 x RYJYAPI 2019-01-01    RYJYAPI  2019-01-01    0\n",
       "2  2019-01-01 00:00:00 x U3KP57C 2019-01-01    U3KP57C  2019-01-01    0\n",
       "3  2019-01-01 00:00:00 x RY0TRQ8 2019-01-01    RY0TRQ8  2019-01-01    0\n",
       "4  2019-01-01 00:00:00 x 8LOVJZ3 2019-01-01    8LOVJZ3  2019-01-01    0"
      ]
     },
     "execution_count": 54,
     "metadata": {},
     "output_type": "execute_result"
    }
   ],
   "source": [
    "# Add the extra features\n",
    "ss['datetime'] = pd.to_datetime(ss['datetime'])\n",
    "ss['date'] = ss[\"datetime\"].dt.date\n",
    "ss['min'] = ss['datetime'].dt.hour*60+ss['datetime'].dt.minute\n",
    "ss.head()"
   ]
  },
  {
   "cell_type": "code",
   "execution_count": 55,
   "metadata": {},
   "outputs": [],
   "source": [
    "ss.date = pd.to_datetime(ss['date'])"
   ]
  },
  {
   "cell_type": "code",
   "execution_count": 56,
   "metadata": {
    "scrolled": false
   },
   "outputs": [],
   "source": [
    "ss_holiday = pd.merge(ss, holiday, left_on='date', right_on='Date', how = \"left\")"
   ]
  },
  {
   "cell_type": "code",
   "execution_count": 57,
   "metadata": {},
   "outputs": [],
   "source": [
    "ss_holiday.drop(['Date', 'Day'], inplace=True, axis=1)"
   ]
  },
  {
   "cell_type": "code",
   "execution_count": 58,
   "metadata": {},
   "outputs": [],
   "source": [
    "ss_holiday[\"holiday\"] = np.where(ss_holiday['Name'].notna(), 1, 0)"
   ]
  },
  {
   "cell_type": "code",
   "execution_count": 59,
   "metadata": {
    "scrolled": true
   },
   "outputs": [
    {
     "data": {
      "text/plain": [
       "0    1148928\n",
       "1      26112\n",
       "Name: holiday, dtype: int64"
      ]
     },
     "execution_count": 59,
     "metadata": {},
     "output_type": "execute_result"
    }
   ],
   "source": [
    "ss_holiday[\"holiday\"].value_counts()"
   ]
  },
  {
   "cell_type": "code",
   "execution_count": 60,
   "metadata": {},
   "outputs": [],
   "source": [
    "ss_holiday.drop('Name', inplace=True, axis=1)"
   ]
  },
  {
   "cell_type": "code",
   "execution_count": 61,
   "metadata": {},
   "outputs": [],
   "source": [
    "ss_road = pd.merge(ss_holiday, road, on = 'segment_id', how=\"left\")"
   ]
  },
  {
   "cell_type": "code",
   "execution_count": 62,
   "metadata": {},
   "outputs": [],
   "source": [
    "dummiesw = pd.get_dummies(ss_road.WIDTH) #one hot encoding for width\n",
    "dummiesl = pd.get_dummies(ss_road.LANES)  #one hot encoding for lanes\n",
    "dummiesc = pd.get_dummies(ss_road.CLASS)  #one hot encoding for class\n",
    "dummiesco = pd.get_dummies(ss_road.CONDITION) #one hot encoding for condition\n",
    "dummiesr = pd.get_dummies(ss_road.ROADNO) #one hot encoding for road number"
   ]
  },
  {
   "cell_type": "code",
   "execution_count": 63,
   "metadata": {},
   "outputs": [],
   "source": [
    "merged2 = pd.concat([ss_road, dummiesw, dummiesl, dummiesc, dummiesco, dummiesr], axis = 1)"
   ]
  },
  {
   "cell_type": "code",
   "execution_count": 64,
   "metadata": {},
   "outputs": [],
   "source": [
    "ss_final = merged2.drop([\"WIDTH\", \"CLASS\", \"LANES\", \"CONDITION\", \"ROADNO\"], axis = 1)"
   ]
  },
  {
   "cell_type": "code",
   "execution_count": 65,
   "metadata": {},
   "outputs": [],
   "source": [
    "ss_final= ss_final.rename(columns = {\n",
    "    \"day\": \"Day-of-Week\",\n",
    "    \"X\": \"Latitude\",\n",
    "    \"Y\": \"Longitude\",\n",
    "    \"datetime_x\": \"datetime\"\n",
    "})"
   ]
  },
  {
   "cell_type": "code",
   "execution_count": 67,
   "metadata": {},
   "outputs": [
    {
     "data": {
      "text/html": [
       "<div>\n",
       "<style scoped>\n",
       "    .dataframe tbody tr th:only-of-type {\n",
       "        vertical-align: middle;\n",
       "    }\n",
       "\n",
       "    .dataframe tbody tr th {\n",
       "        vertical-align: top;\n",
       "    }\n",
       "\n",
       "    .dataframe thead th {\n",
       "        text-align: right;\n",
       "    }\n",
       "</style>\n",
       "<table border=\"1\" class=\"dataframe\">\n",
       "  <thead>\n",
       "    <tr style=\"text-align: right;\">\n",
       "      <th></th>\n",
       "      <th>Unnamed: 0</th>\n",
       "      <th>Local time in Cape Town</th>\n",
       "      <th>T</th>\n",
       "      <th>Po</th>\n",
       "      <th>P</th>\n",
       "      <th>Pa</th>\n",
       "      <th>U</th>\n",
       "      <th>DD</th>\n",
       "      <th>Ff</th>\n",
       "      <th>ff10</th>\n",
       "      <th>Td</th>\n",
       "    </tr>\n",
       "  </thead>\n",
       "  <tbody>\n",
       "    <tr>\n",
       "      <th>0</th>\n",
       "      <td>0</td>\n",
       "      <td>2019-01-01 02:00:00</td>\n",
       "      <td>19.2</td>\n",
       "      <td>756.7</td>\n",
       "      <td>760.9</td>\n",
       "      <td>-0.6</td>\n",
       "      <td>760.9</td>\n",
       "      <td>Wind blowing from the south-southwest</td>\n",
       "      <td>5.0</td>\n",
       "      <td>7.000000</td>\n",
       "      <td>16.5</td>\n",
       "    </tr>\n",
       "    <tr>\n",
       "      <th>1</th>\n",
       "      <td>1</td>\n",
       "      <td>2019-01-01 03:00:00</td>\n",
       "      <td>19.2</td>\n",
       "      <td>756.7</td>\n",
       "      <td>760.9</td>\n",
       "      <td>-0.6</td>\n",
       "      <td>760.9</td>\n",
       "      <td>Wind blowing from the south-southwest</td>\n",
       "      <td>5.0</td>\n",
       "      <td>7.000000</td>\n",
       "      <td>16.5</td>\n",
       "    </tr>\n",
       "    <tr>\n",
       "      <th>2</th>\n",
       "      <td>2</td>\n",
       "      <td>2019-01-01 04:00:00</td>\n",
       "      <td>19.2</td>\n",
       "      <td>756.7</td>\n",
       "      <td>760.9</td>\n",
       "      <td>-0.6</td>\n",
       "      <td>760.9</td>\n",
       "      <td>Wind blowing from the south-southwest</td>\n",
       "      <td>5.0</td>\n",
       "      <td>7.000000</td>\n",
       "      <td>16.5</td>\n",
       "    </tr>\n",
       "    <tr>\n",
       "      <th>3</th>\n",
       "      <td>3</td>\n",
       "      <td>2019-01-01 05:00:00</td>\n",
       "      <td>19.1</td>\n",
       "      <td>757.3</td>\n",
       "      <td>761.3</td>\n",
       "      <td>0.6</td>\n",
       "      <td>761.3</td>\n",
       "      <td>Wind blowing from the south-southwest</td>\n",
       "      <td>4.0</td>\n",
       "      <td>6.926041</td>\n",
       "      <td>14.4</td>\n",
       "    </tr>\n",
       "    <tr>\n",
       "      <th>4</th>\n",
       "      <td>4</td>\n",
       "      <td>2019-01-01 06:00:00</td>\n",
       "      <td>19.1</td>\n",
       "      <td>757.3</td>\n",
       "      <td>761.3</td>\n",
       "      <td>0.6</td>\n",
       "      <td>761.3</td>\n",
       "      <td>Wind blowing from the south-southwest</td>\n",
       "      <td>4.0</td>\n",
       "      <td>6.926041</td>\n",
       "      <td>14.4</td>\n",
       "    </tr>\n",
       "  </tbody>\n",
       "</table>\n",
       "</div>"
      ],
      "text/plain": [
       "   Unnamed: 0 Local time in Cape Town     T     Po      P   Pa      U  \\\n",
       "0           0     2019-01-01 02:00:00  19.2  756.7  760.9 -0.6  760.9   \n",
       "1           1     2019-01-01 03:00:00  19.2  756.7  760.9 -0.6  760.9   \n",
       "2           2     2019-01-01 04:00:00  19.2  756.7  760.9 -0.6  760.9   \n",
       "3           3     2019-01-01 05:00:00  19.1  757.3  761.3  0.6  761.3   \n",
       "4           4     2019-01-01 06:00:00  19.1  757.3  761.3  0.6  761.3   \n",
       "\n",
       "                                      DD   Ff      ff10    Td  \n",
       "0  Wind blowing from the south-southwest  5.0  7.000000  16.5  \n",
       "1  Wind blowing from the south-southwest  5.0  7.000000  16.5  \n",
       "2  Wind blowing from the south-southwest  5.0  7.000000  16.5  \n",
       "3  Wind blowing from the south-southwest  4.0  6.926041  14.4  \n",
       "4  Wind blowing from the south-southwest  4.0  6.926041  14.4  "
      ]
     },
     "execution_count": 67,
     "metadata": {},
     "output_type": "execute_result"
    }
   ],
   "source": [
    "weather_2019 = pd.read_csv(\"weather_2019.csv\")\n",
    "weather_2019.head()"
   ]
  },
  {
   "cell_type": "code",
   "execution_count": 68,
   "metadata": {},
   "outputs": [],
   "source": [
    "weather_2019.drop([\"Unnamed: 0\", \"DD\"], inplace=True, axis=1)"
   ]
  },
  {
   "cell_type": "code",
   "execution_count": 69,
   "metadata": {},
   "outputs": [],
   "source": [
    "weather_2019['Local time in Cape Town'] = weather_2019['Local time in Cape Town'].astype('O')"
   ]
  },
  {
   "cell_type": "code",
   "execution_count": 70,
   "metadata": {
    "scrolled": true
   },
   "outputs": [],
   "source": [
    "ss_final['datetime'] = ss_final['datetime'].astype('O')"
   ]
  },
  {
   "cell_type": "code",
   "execution_count": 71,
   "metadata": {
    "scrolled": true
   },
   "outputs": [],
   "source": [
    "ss_final.datetime = ss_final.datetime.astype(str)\n",
    "weather_2019['Local time in Cape Town'] = weather_2019['Local time in Cape Town'].astype(str)"
   ]
  },
  {
   "cell_type": "code",
   "execution_count": 72,
   "metadata": {},
   "outputs": [
    {
     "data": {
      "text/html": [
       "<div>\n",
       "<style scoped>\n",
       "    .dataframe tbody tr th:only-of-type {\n",
       "        vertical-align: middle;\n",
       "    }\n",
       "\n",
       "    .dataframe tbody tr th {\n",
       "        vertical-align: top;\n",
       "    }\n",
       "\n",
       "    .dataframe thead th {\n",
       "        text-align: right;\n",
       "    }\n",
       "</style>\n",
       "<table border=\"1\" class=\"dataframe\">\n",
       "  <thead>\n",
       "    <tr style=\"text-align: right;\">\n",
       "      <th></th>\n",
       "      <th>datetime x segment_id</th>\n",
       "      <th>datetime</th>\n",
       "      <th>segment_id</th>\n",
       "      <th>date</th>\n",
       "      <th>min</th>\n",
       "      <th>holiday</th>\n",
       "      <th>Latitude</th>\n",
       "      <th>Longitude</th>\n",
       "      <th>0.0</th>\n",
       "      <th>7.4</th>\n",
       "      <th>...</th>\n",
       "      <th>Unclassified</th>\n",
       "      <th>Local time in Cape Town</th>\n",
       "      <th>T</th>\n",
       "      <th>Po</th>\n",
       "      <th>P</th>\n",
       "      <th>Pa</th>\n",
       "      <th>U</th>\n",
       "      <th>Ff</th>\n",
       "      <th>ff10</th>\n",
       "      <th>Td</th>\n",
       "    </tr>\n",
       "  </thead>\n",
       "  <tbody>\n",
       "    <tr>\n",
       "      <th>0</th>\n",
       "      <td>2019-01-01 00:00:00 x S0B3CGQ</td>\n",
       "      <td>2019-01-01 00:00:00</td>\n",
       "      <td>S0B3CGQ</td>\n",
       "      <td>2019-01-01</td>\n",
       "      <td>0</td>\n",
       "      <td>1</td>\n",
       "      <td>18.541817</td>\n",
       "      <td>-33.889284</td>\n",
       "      <td>1</td>\n",
       "      <td>0</td>\n",
       "      <td>...</td>\n",
       "      <td>0</td>\n",
       "      <td>NaN</td>\n",
       "      <td>NaN</td>\n",
       "      <td>NaN</td>\n",
       "      <td>NaN</td>\n",
       "      <td>NaN</td>\n",
       "      <td>NaN</td>\n",
       "      <td>NaN</td>\n",
       "      <td>NaN</td>\n",
       "      <td>NaN</td>\n",
       "    </tr>\n",
       "    <tr>\n",
       "      <th>1</th>\n",
       "      <td>2019-01-01 00:00:00 x RYJYAPI</td>\n",
       "      <td>2019-01-01 00:00:00</td>\n",
       "      <td>RYJYAPI</td>\n",
       "      <td>2019-01-01</td>\n",
       "      <td>0</td>\n",
       "      <td>1</td>\n",
       "      <td>18.930836</td>\n",
       "      <td>-34.140648</td>\n",
       "      <td>0</td>\n",
       "      <td>0</td>\n",
       "      <td>...</td>\n",
       "      <td>0</td>\n",
       "      <td>NaN</td>\n",
       "      <td>NaN</td>\n",
       "      <td>NaN</td>\n",
       "      <td>NaN</td>\n",
       "      <td>NaN</td>\n",
       "      <td>NaN</td>\n",
       "      <td>NaN</td>\n",
       "      <td>NaN</td>\n",
       "      <td>NaN</td>\n",
       "    </tr>\n",
       "    <tr>\n",
       "      <th>2</th>\n",
       "      <td>2019-01-01 00:00:00 x U3KP57C</td>\n",
       "      <td>2019-01-01 00:00:00</td>\n",
       "      <td>U3KP57C</td>\n",
       "      <td>2019-01-01</td>\n",
       "      <td>0</td>\n",
       "      <td>1</td>\n",
       "      <td>18.551477</td>\n",
       "      <td>-33.958777</td>\n",
       "      <td>1</td>\n",
       "      <td>0</td>\n",
       "      <td>...</td>\n",
       "      <td>0</td>\n",
       "      <td>NaN</td>\n",
       "      <td>NaN</td>\n",
       "      <td>NaN</td>\n",
       "      <td>NaN</td>\n",
       "      <td>NaN</td>\n",
       "      <td>NaN</td>\n",
       "      <td>NaN</td>\n",
       "      <td>NaN</td>\n",
       "      <td>NaN</td>\n",
       "    </tr>\n",
       "    <tr>\n",
       "      <th>3</th>\n",
       "      <td>2019-01-01 00:00:00 x RY0TRQ8</td>\n",
       "      <td>2019-01-01 00:00:00</td>\n",
       "      <td>RY0TRQ8</td>\n",
       "      <td>2019-01-01</td>\n",
       "      <td>0</td>\n",
       "      <td>1</td>\n",
       "      <td>18.677457</td>\n",
       "      <td>-33.897177</td>\n",
       "      <td>0</td>\n",
       "      <td>0</td>\n",
       "      <td>...</td>\n",
       "      <td>0</td>\n",
       "      <td>NaN</td>\n",
       "      <td>NaN</td>\n",
       "      <td>NaN</td>\n",
       "      <td>NaN</td>\n",
       "      <td>NaN</td>\n",
       "      <td>NaN</td>\n",
       "      <td>NaN</td>\n",
       "      <td>NaN</td>\n",
       "      <td>NaN</td>\n",
       "    </tr>\n",
       "    <tr>\n",
       "      <th>4</th>\n",
       "      <td>2019-01-01 00:00:00 x 8LOVJZ3</td>\n",
       "      <td>2019-01-01 00:00:00</td>\n",
       "      <td>8LOVJZ3</td>\n",
       "      <td>2019-01-01</td>\n",
       "      <td>0</td>\n",
       "      <td>1</td>\n",
       "      <td>18.835946</td>\n",
       "      <td>-34.085912</td>\n",
       "      <td>0</td>\n",
       "      <td>0</td>\n",
       "      <td>...</td>\n",
       "      <td>0</td>\n",
       "      <td>NaN</td>\n",
       "      <td>NaN</td>\n",
       "      <td>NaN</td>\n",
       "      <td>NaN</td>\n",
       "      <td>NaN</td>\n",
       "      <td>NaN</td>\n",
       "      <td>NaN</td>\n",
       "      <td>NaN</td>\n",
       "      <td>NaN</td>\n",
       "    </tr>\n",
       "  </tbody>\n",
       "</table>\n",
       "<p>5 rows × 38 columns</p>\n",
       "</div>"
      ],
      "text/plain": [
       "           datetime x segment_id             datetime segment_id       date  \\\n",
       "0  2019-01-01 00:00:00 x S0B3CGQ  2019-01-01 00:00:00    S0B3CGQ 2019-01-01   \n",
       "1  2019-01-01 00:00:00 x RYJYAPI  2019-01-01 00:00:00    RYJYAPI 2019-01-01   \n",
       "2  2019-01-01 00:00:00 x U3KP57C  2019-01-01 00:00:00    U3KP57C 2019-01-01   \n",
       "3  2019-01-01 00:00:00 x RY0TRQ8  2019-01-01 00:00:00    RY0TRQ8 2019-01-01   \n",
       "4  2019-01-01 00:00:00 x 8LOVJZ3  2019-01-01 00:00:00    8LOVJZ3 2019-01-01   \n",
       "\n",
       "   min  holiday   Latitude  Longitude  0.0  7.4  ...  Unclassified  \\\n",
       "0    0        1  18.541817 -33.889284    1    0  ...             0   \n",
       "1    0        1  18.930836 -34.140648    0    0  ...             0   \n",
       "2    0        1  18.551477 -33.958777    1    0  ...             0   \n",
       "3    0        1  18.677457 -33.897177    0    0  ...             0   \n",
       "4    0        1  18.835946 -34.085912    0    0  ...             0   \n",
       "\n",
       "   Local time in Cape Town   T  Po   P  Pa   U  Ff  ff10  Td  \n",
       "0                      NaN NaN NaN NaN NaN NaN NaN   NaN NaN  \n",
       "1                      NaN NaN NaN NaN NaN NaN NaN   NaN NaN  \n",
       "2                      NaN NaN NaN NaN NaN NaN NaN   NaN NaN  \n",
       "3                      NaN NaN NaN NaN NaN NaN NaN   NaN NaN  \n",
       "4                      NaN NaN NaN NaN NaN NaN NaN   NaN NaN  \n",
       "\n",
       "[5 rows x 38 columns]"
      ]
     },
     "execution_count": 72,
     "metadata": {},
     "output_type": "execute_result"
    }
   ],
   "source": [
    "ss_final2 = pd.merge(ss_final, weather_2019, left_on = 'datetime', right_on = \"Local time in Cape Town\", how=\"left\")\n",
    "ss_final2.head()"
   ]
  },
  {
   "cell_type": "code",
   "execution_count": 73,
   "metadata": {},
   "outputs": [],
   "source": [
    "ss_final2 = ss_final2.bfill()"
   ]
  },
  {
   "cell_type": "code",
   "execution_count": 74,
   "metadata": {},
   "outputs": [],
   "source": [
    "ss_final2[\"datetime2\"] = pd.to_datetime(ss_final2[\"datetime\"])"
   ]
  },
  {
   "cell_type": "code",
   "execution_count": 75,
   "metadata": {},
   "outputs": [],
   "source": [
    "ss_final2['day'] = ss_final2['datetime2'].dt.dayofweek"
   ]
  },
  {
   "cell_type": "code",
   "execution_count": 76,
   "metadata": {},
   "outputs": [],
   "source": [
    "dummiesd = pd.get_dummies(ss_final2.day) "
   ]
  },
  {
   "cell_type": "code",
   "execution_count": 77,
   "metadata": {},
   "outputs": [],
   "source": [
    "ss_final3 = pd.concat([ss_final2, dummiesd], axis = 1)"
   ]
  },
  {
   "cell_type": "code",
   "execution_count": 78,
   "metadata": {
    "scrolled": true
   },
   "outputs": [],
   "source": [
    "ss_final3.drop(['date', 'Local time in Cape Town'], inplace=True, axis=1)"
   ]
  },
  {
   "cell_type": "markdown",
   "metadata": {},
   "source": [
    "## Use Model to Make Prediction"
   ]
  },
  {
   "cell_type": "code",
   "execution_count": 79,
   "metadata": {},
   "outputs": [],
   "source": [
    "numerical = ss_final3.select_dtypes(np.number)"
   ]
  },
  {
   "cell_type": "code",
   "execution_count": 80,
   "metadata": {},
   "outputs": [
    {
     "data": {
      "text/html": [
       "<div>\n",
       "<style scoped>\n",
       "    .dataframe tbody tr th:only-of-type {\n",
       "        vertical-align: middle;\n",
       "    }\n",
       "\n",
       "    .dataframe tbody tr th {\n",
       "        vertical-align: top;\n",
       "    }\n",
       "\n",
       "    .dataframe thead th {\n",
       "        text-align: right;\n",
       "    }\n",
       "</style>\n",
       "<table border=\"1\" class=\"dataframe\">\n",
       "  <thead>\n",
       "    <tr style=\"text-align: right;\">\n",
       "      <th></th>\n",
       "      <th>datetime x segment_id</th>\n",
       "      <th>datetime</th>\n",
       "      <th>segment_id</th>\n",
       "      <th>min</th>\n",
       "      <th>holiday</th>\n",
       "      <th>Latitude</th>\n",
       "      <th>Longitude</th>\n",
       "      <th>0.0</th>\n",
       "      <th>7.4</th>\n",
       "      <th>12.8</th>\n",
       "      <th>...</th>\n",
       "      <th>datetime2</th>\n",
       "      <th>day</th>\n",
       "      <th>0</th>\n",
       "      <th>1</th>\n",
       "      <th>2</th>\n",
       "      <th>3</th>\n",
       "      <th>4</th>\n",
       "      <th>5</th>\n",
       "      <th>6</th>\n",
       "      <th>prediction</th>\n",
       "    </tr>\n",
       "  </thead>\n",
       "  <tbody>\n",
       "    <tr>\n",
       "      <th>0</th>\n",
       "      <td>2019-01-01 00:00:00 x S0B3CGQ</td>\n",
       "      <td>2019-01-01 00:00:00</td>\n",
       "      <td>S0B3CGQ</td>\n",
       "      <td>0</td>\n",
       "      <td>1</td>\n",
       "      <td>18.541817</td>\n",
       "      <td>-33.889284</td>\n",
       "      <td>1</td>\n",
       "      <td>0</td>\n",
       "      <td>0</td>\n",
       "      <td>...</td>\n",
       "      <td>2019-01-01</td>\n",
       "      <td>1</td>\n",
       "      <td>0</td>\n",
       "      <td>1</td>\n",
       "      <td>0</td>\n",
       "      <td>0</td>\n",
       "      <td>0</td>\n",
       "      <td>0</td>\n",
       "      <td>0</td>\n",
       "      <td>1</td>\n",
       "    </tr>\n",
       "    <tr>\n",
       "      <th>1</th>\n",
       "      <td>2019-01-01 00:00:00 x RYJYAPI</td>\n",
       "      <td>2019-01-01 00:00:00</td>\n",
       "      <td>RYJYAPI</td>\n",
       "      <td>0</td>\n",
       "      <td>1</td>\n",
       "      <td>18.930836</td>\n",
       "      <td>-34.140648</td>\n",
       "      <td>0</td>\n",
       "      <td>0</td>\n",
       "      <td>1</td>\n",
       "      <td>...</td>\n",
       "      <td>2019-01-01</td>\n",
       "      <td>1</td>\n",
       "      <td>0</td>\n",
       "      <td>1</td>\n",
       "      <td>0</td>\n",
       "      <td>0</td>\n",
       "      <td>0</td>\n",
       "      <td>0</td>\n",
       "      <td>0</td>\n",
       "      <td>0</td>\n",
       "    </tr>\n",
       "    <tr>\n",
       "      <th>2</th>\n",
       "      <td>2019-01-01 00:00:00 x U3KP57C</td>\n",
       "      <td>2019-01-01 00:00:00</td>\n",
       "      <td>U3KP57C</td>\n",
       "      <td>0</td>\n",
       "      <td>1</td>\n",
       "      <td>18.551477</td>\n",
       "      <td>-33.958777</td>\n",
       "      <td>1</td>\n",
       "      <td>0</td>\n",
       "      <td>0</td>\n",
       "      <td>...</td>\n",
       "      <td>2019-01-01</td>\n",
       "      <td>1</td>\n",
       "      <td>0</td>\n",
       "      <td>1</td>\n",
       "      <td>0</td>\n",
       "      <td>0</td>\n",
       "      <td>0</td>\n",
       "      <td>0</td>\n",
       "      <td>0</td>\n",
       "      <td>0</td>\n",
       "    </tr>\n",
       "    <tr>\n",
       "      <th>3</th>\n",
       "      <td>2019-01-01 00:00:00 x RY0TRQ8</td>\n",
       "      <td>2019-01-01 00:00:00</td>\n",
       "      <td>RY0TRQ8</td>\n",
       "      <td>0</td>\n",
       "      <td>1</td>\n",
       "      <td>18.677457</td>\n",
       "      <td>-33.897177</td>\n",
       "      <td>0</td>\n",
       "      <td>0</td>\n",
       "      <td>0</td>\n",
       "      <td>...</td>\n",
       "      <td>2019-01-01</td>\n",
       "      <td>1</td>\n",
       "      <td>0</td>\n",
       "      <td>1</td>\n",
       "      <td>0</td>\n",
       "      <td>0</td>\n",
       "      <td>0</td>\n",
       "      <td>0</td>\n",
       "      <td>0</td>\n",
       "      <td>0</td>\n",
       "    </tr>\n",
       "    <tr>\n",
       "      <th>4</th>\n",
       "      <td>2019-01-01 00:00:00 x 8LOVJZ3</td>\n",
       "      <td>2019-01-01 00:00:00</td>\n",
       "      <td>8LOVJZ3</td>\n",
       "      <td>0</td>\n",
       "      <td>1</td>\n",
       "      <td>18.835946</td>\n",
       "      <td>-34.085912</td>\n",
       "      <td>0</td>\n",
       "      <td>0</td>\n",
       "      <td>0</td>\n",
       "      <td>...</td>\n",
       "      <td>2019-01-01</td>\n",
       "      <td>1</td>\n",
       "      <td>0</td>\n",
       "      <td>1</td>\n",
       "      <td>0</td>\n",
       "      <td>0</td>\n",
       "      <td>0</td>\n",
       "      <td>0</td>\n",
       "      <td>0</td>\n",
       "      <td>1</td>\n",
       "    </tr>\n",
       "  </tbody>\n",
       "</table>\n",
       "<p>5 rows × 46 columns</p>\n",
       "</div>"
      ],
      "text/plain": [
       "           datetime x segment_id             datetime segment_id  min  \\\n",
       "0  2019-01-01 00:00:00 x S0B3CGQ  2019-01-01 00:00:00    S0B3CGQ    0   \n",
       "1  2019-01-01 00:00:00 x RYJYAPI  2019-01-01 00:00:00    RYJYAPI    0   \n",
       "2  2019-01-01 00:00:00 x U3KP57C  2019-01-01 00:00:00    U3KP57C    0   \n",
       "3  2019-01-01 00:00:00 x RY0TRQ8  2019-01-01 00:00:00    RY0TRQ8    0   \n",
       "4  2019-01-01 00:00:00 x 8LOVJZ3  2019-01-01 00:00:00    8LOVJZ3    0   \n",
       "\n",
       "   holiday   Latitude  Longitude  0.0  7.4  12.8  ...  datetime2  day  0  1  \\\n",
       "0        1  18.541817 -33.889284    1    0     0  ... 2019-01-01    1  0  1   \n",
       "1        1  18.930836 -34.140648    0    0     1  ... 2019-01-01    1  0  1   \n",
       "2        1  18.551477 -33.958777    1    0     0  ... 2019-01-01    1  0  1   \n",
       "3        1  18.677457 -33.897177    0    0     0  ... 2019-01-01    1  0  1   \n",
       "4        1  18.835946 -34.085912    0    0     0  ... 2019-01-01    1  0  1   \n",
       "\n",
       "   2  3  4  5  6  prediction  \n",
       "0  0  0  0  0  0           1  \n",
       "1  0  0  0  0  0           0  \n",
       "2  0  0  0  0  0           0  \n",
       "3  0  0  0  0  0           0  \n",
       "4  0  0  0  0  0           1  \n",
       "\n",
       "[5 rows x 46 columns]"
      ]
     },
     "execution_count": 80,
     "metadata": {},
     "output_type": "execute_result"
    }
   ],
   "source": [
    "ss_final3['prediction'] = model.predict(numerical)\n",
    "ss_final3.head()"
   ]
  },
  {
   "cell_type": "code",
   "execution_count": 81,
   "metadata": {
    "scrolled": true
   },
   "outputs": [
    {
     "data": {
      "text/plain": [
       "253519"
      ]
     },
     "execution_count": 81,
     "metadata": {},
     "output_type": "execute_result"
    }
   ],
   "source": [
    "ss_final3['prediction'].sum()"
   ]
  },
  {
   "cell_type": "code",
   "execution_count": 82,
   "metadata": {},
   "outputs": [
    {
     "data": {
      "text/plain": [
       "(1175040, 46)"
      ]
     },
     "execution_count": 82,
     "metadata": {},
     "output_type": "execute_result"
    }
   ],
   "source": [
    "ss_final3.shape"
   ]
  },
  {
   "cell_type": "code",
   "execution_count": 80,
   "metadata": {},
   "outputs": [],
   "source": [
    "# Save to CSV and submit\n",
    "ss_final3[['datetime x segment_id', 'prediction']].to_csv('submission5.csv', index=False)"
   ]
  },
  {
   "cell_type": "code",
   "execution_count": null,
   "metadata": {},
   "outputs": [],
   "source": []
  }
 ],
 "metadata": {
  "kernelspec": {
   "display_name": "Python 3",
   "language": "python",
   "name": "python3"
  },
  "language_info": {
   "codemirror_mode": {
    "name": "ipython",
    "version": 3
   },
   "file_extension": ".py",
   "mimetype": "text/x-python",
   "name": "python",
   "nbconvert_exporter": "python",
   "pygments_lexer": "ipython3",
   "version": "3.7.7"
  }
 },
 "nbformat": 4,
 "nbformat_minor": 4
}
